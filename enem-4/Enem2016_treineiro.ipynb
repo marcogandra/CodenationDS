{
 "cells": [
  {
   "cell_type": "markdown",
   "metadata": {},
   "source": [
    "# Descubra quem fez o Enem 2016 apenas para treino"
   ]
  },
  {
   "cell_type": "markdown",
   "metadata": {},
   "source": [
    "## Importando as bibliotecas"
   ]
  },
  {
   "cell_type": "code",
   "execution_count": 1,
   "metadata": {},
   "outputs": [],
   "source": [
    "import pandas as pd\n",
    "import numpy as np\n",
    "import seaborn as sns\n",
    "from sklearn import metrics\n",
    "import matplotlib.pyplot as plt"
   ]
  },
  {
   "cell_type": "code",
   "execution_count": 2,
   "metadata": {},
   "outputs": [],
   "source": [
    "from sklearn.preprocessing import StandardScaler\n",
    "from sklearn.ensemble import RandomForestClassifier\n",
    "# from imblearn.over_sampling import SMOTE\n",
    "from sklearn.model_selection import train_test_split\n",
    "from sklearn.metrics import confusion_matrix"
   ]
  },
  {
   "cell_type": "markdown",
   "metadata": {},
   "source": [
    "## Importando e visualizando as bases"
   ]
  },
  {
   "cell_type": "code",
   "execution_count": 3,
   "metadata": {},
   "outputs": [],
   "source": [
    "df_train = pd.read_csv('train.csv')\n",
    "df_test = pd.read_csv('test.csv')"
   ]
  },
  {
   "cell_type": "code",
   "execution_count": 4,
   "metadata": {},
   "outputs": [
    {
     "name": "stdout",
     "output_type": "stream",
     "text": [
      "Total de variáveis na base de treino: 167\n",
      "Total de variáveis na base de teste: 43\n"
     ]
    }
   ],
   "source": [
    "print('Total de variáveis na base de treino:', len(df_train.columns))\n",
    "print('Total de variáveis na base de teste:', len(df_test.columns))"
   ]
  },
  {
   "cell_type": "code",
   "execution_count": 5,
   "metadata": {},
   "outputs": [],
   "source": [
    "features_init = df_test.columns.tolist()\n",
    "features_init.append('IN_TREINEIRO')"
   ]
  },
  {
   "cell_type": "code",
   "execution_count": 6,
   "metadata": {
    "scrolled": true
   },
   "outputs": [
    {
     "data": {
      "text/html": [
       "<div>\n",
       "<style scoped>\n",
       "    .dataframe tbody tr th:only-of-type {\n",
       "        vertical-align: middle;\n",
       "    }\n",
       "\n",
       "    .dataframe tbody tr th {\n",
       "        vertical-align: top;\n",
       "    }\n",
       "\n",
       "    .dataframe thead th {\n",
       "        text-align: right;\n",
       "    }\n",
       "</style>\n",
       "<table border=\"1\" class=\"dataframe\">\n",
       "  <thead>\n",
       "    <tr style=\"text-align: right;\">\n",
       "      <th></th>\n",
       "      <th>NU_INSCRICAO</th>\n",
       "      <th>CO_UF_RESIDENCIA</th>\n",
       "      <th>SG_UF_RESIDENCIA</th>\n",
       "      <th>NU_IDADE</th>\n",
       "      <th>TP_SEXO</th>\n",
       "      <th>TP_COR_RACA</th>\n",
       "      <th>TP_NACIONALIDADE</th>\n",
       "      <th>TP_ST_CONCLUSAO</th>\n",
       "      <th>TP_ANO_CONCLUIU</th>\n",
       "      <th>TP_ESCOLA</th>\n",
       "      <th>...</th>\n",
       "      <th>NU_NOTA_REDACAO</th>\n",
       "      <th>Q001</th>\n",
       "      <th>Q002</th>\n",
       "      <th>Q006</th>\n",
       "      <th>Q024</th>\n",
       "      <th>Q025</th>\n",
       "      <th>Q026</th>\n",
       "      <th>Q027</th>\n",
       "      <th>Q047</th>\n",
       "      <th>IN_TREINEIRO</th>\n",
       "    </tr>\n",
       "  </thead>\n",
       "  <tbody>\n",
       "    <tr>\n",
       "      <th>0</th>\n",
       "      <td>ed50e8aaa58e7a806c337585efee9ca41f1eb1ad</td>\n",
       "      <td>43</td>\n",
       "      <td>RS</td>\n",
       "      <td>24</td>\n",
       "      <td>M</td>\n",
       "      <td>1</td>\n",
       "      <td>1</td>\n",
       "      <td>1</td>\n",
       "      <td>4</td>\n",
       "      <td>1</td>\n",
       "      <td>...</td>\n",
       "      <td>520.0</td>\n",
       "      <td>D</td>\n",
       "      <td>D</td>\n",
       "      <td>C</td>\n",
       "      <td>A</td>\n",
       "      <td>A</td>\n",
       "      <td>C</td>\n",
       "      <td>H</td>\n",
       "      <td>A</td>\n",
       "      <td>0</td>\n",
       "    </tr>\n",
       "    <tr>\n",
       "      <th>1</th>\n",
       "      <td>2c3acac4b33ec2b195d77e7c04a2d75727fad723</td>\n",
       "      <td>23</td>\n",
       "      <td>CE</td>\n",
       "      <td>17</td>\n",
       "      <td>F</td>\n",
       "      <td>3</td>\n",
       "      <td>1</td>\n",
       "      <td>2</td>\n",
       "      <td>0</td>\n",
       "      <td>2</td>\n",
       "      <td>...</td>\n",
       "      <td>580.0</td>\n",
       "      <td>A</td>\n",
       "      <td>A</td>\n",
       "      <td>B</td>\n",
       "      <td>A</td>\n",
       "      <td>A</td>\n",
       "      <td>A</td>\n",
       "      <td>NaN</td>\n",
       "      <td>A</td>\n",
       "      <td>0</td>\n",
       "    </tr>\n",
       "    <tr>\n",
       "      <th>2</th>\n",
       "      <td>f4545f8ccb9ff5c8aad7d32951b3f251a26e6568</td>\n",
       "      <td>23</td>\n",
       "      <td>CE</td>\n",
       "      <td>21</td>\n",
       "      <td>F</td>\n",
       "      <td>3</td>\n",
       "      <td>1</td>\n",
       "      <td>3</td>\n",
       "      <td>0</td>\n",
       "      <td>1</td>\n",
       "      <td>...</td>\n",
       "      <td>NaN</td>\n",
       "      <td>D</td>\n",
       "      <td>D</td>\n",
       "      <td>C</td>\n",
       "      <td>A</td>\n",
       "      <td>A</td>\n",
       "      <td>A</td>\n",
       "      <td>NaN</td>\n",
       "      <td>A</td>\n",
       "      <td>0</td>\n",
       "    </tr>\n",
       "    <tr>\n",
       "      <th>3</th>\n",
       "      <td>3d6ec248fef899c414e77f82d5c6d2bffbeaf7fe</td>\n",
       "      <td>33</td>\n",
       "      <td>RJ</td>\n",
       "      <td>25</td>\n",
       "      <td>F</td>\n",
       "      <td>0</td>\n",
       "      <td>1</td>\n",
       "      <td>1</td>\n",
       "      <td>9</td>\n",
       "      <td>1</td>\n",
       "      <td>...</td>\n",
       "      <td>NaN</td>\n",
       "      <td>H</td>\n",
       "      <td>E</td>\n",
       "      <td>E</td>\n",
       "      <td>C</td>\n",
       "      <td>B</td>\n",
       "      <td>C</td>\n",
       "      <td>F</td>\n",
       "      <td>D</td>\n",
       "      <td>0</td>\n",
       "    </tr>\n",
       "    <tr>\n",
       "      <th>4</th>\n",
       "      <td>bf896ac8d3ecadd6dba1dfbf50110afcbf5d3268</td>\n",
       "      <td>13</td>\n",
       "      <td>AM</td>\n",
       "      <td>28</td>\n",
       "      <td>M</td>\n",
       "      <td>2</td>\n",
       "      <td>1</td>\n",
       "      <td>1</td>\n",
       "      <td>4</td>\n",
       "      <td>1</td>\n",
       "      <td>...</td>\n",
       "      <td>NaN</td>\n",
       "      <td>E</td>\n",
       "      <td>D</td>\n",
       "      <td>C</td>\n",
       "      <td>A</td>\n",
       "      <td>A</td>\n",
       "      <td>B</td>\n",
       "      <td>F</td>\n",
       "      <td>A</td>\n",
       "      <td>0</td>\n",
       "    </tr>\n",
       "  </tbody>\n",
       "</table>\n",
       "<p>5 rows × 44 columns</p>\n",
       "</div>"
      ],
      "text/plain": [
       "                               NU_INSCRICAO  CO_UF_RESIDENCIA  \\\n",
       "0  ed50e8aaa58e7a806c337585efee9ca41f1eb1ad                43   \n",
       "1  2c3acac4b33ec2b195d77e7c04a2d75727fad723                23   \n",
       "2  f4545f8ccb9ff5c8aad7d32951b3f251a26e6568                23   \n",
       "3  3d6ec248fef899c414e77f82d5c6d2bffbeaf7fe                33   \n",
       "4  bf896ac8d3ecadd6dba1dfbf50110afcbf5d3268                13   \n",
       "\n",
       "  SG_UF_RESIDENCIA  NU_IDADE TP_SEXO  TP_COR_RACA  TP_NACIONALIDADE  \\\n",
       "0               RS        24       M            1                 1   \n",
       "1               CE        17       F            3                 1   \n",
       "2               CE        21       F            3                 1   \n",
       "3               RJ        25       F            0                 1   \n",
       "4               AM        28       M            2                 1   \n",
       "\n",
       "   TP_ST_CONCLUSAO  TP_ANO_CONCLUIU  TP_ESCOLA  ...  NU_NOTA_REDACAO  Q001  \\\n",
       "0                1                4          1  ...            520.0     D   \n",
       "1                2                0          2  ...            580.0     A   \n",
       "2                3                0          1  ...              NaN     D   \n",
       "3                1                9          1  ...              NaN     H   \n",
       "4                1                4          1  ...              NaN     E   \n",
       "\n",
       "   Q002  Q006  Q024  Q025  Q026  Q027  Q047  IN_TREINEIRO  \n",
       "0     D     C     A     A     C     H     A             0  \n",
       "1     A     B     A     A     A   NaN     A             0  \n",
       "2     D     C     A     A     A   NaN     A             0  \n",
       "3     E     E     C     B     C     F     D             0  \n",
       "4     D     C     A     A     B     F     A             0  \n",
       "\n",
       "[5 rows x 44 columns]"
      ]
     },
     "execution_count": 6,
     "metadata": {},
     "output_type": "execute_result"
    }
   ],
   "source": [
    "df_train_feat = df_train[features_init]\n",
    "df_train_feat.head()"
   ]
  },
  {
   "cell_type": "markdown",
   "metadata": {},
   "source": [
    "## Visualizando os valores nulos e sua porcentagem"
   ]
  },
  {
   "cell_type": "code",
   "execution_count": 7,
   "metadata": {},
   "outputs": [
    {
     "data": {
      "text/html": [
       "<div>\n",
       "<style scoped>\n",
       "    .dataframe tbody tr th:only-of-type {\n",
       "        vertical-align: middle;\n",
       "    }\n",
       "\n",
       "    .dataframe tbody tr th {\n",
       "        vertical-align: top;\n",
       "    }\n",
       "\n",
       "    .dataframe thead th {\n",
       "        text-align: right;\n",
       "    }\n",
       "</style>\n",
       "<table border=\"1\" class=\"dataframe\">\n",
       "  <thead>\n",
       "    <tr style=\"text-align: right;\">\n",
       "      <th></th>\n",
       "      <th>type</th>\n",
       "      <th>Sum of NaN</th>\n",
       "      <th>NaN%</th>\n",
       "    </tr>\n",
       "  </thead>\n",
       "  <tbody>\n",
       "    <tr>\n",
       "      <th>TP_DEPENDENCIA_ADM_ESC</th>\n",
       "      <td>float64</td>\n",
       "      <td>9448</td>\n",
       "      <td>0.688128</td>\n",
       "    </tr>\n",
       "    <tr>\n",
       "      <th>TP_ENSINO</th>\n",
       "      <td>float64</td>\n",
       "      <td>9448</td>\n",
       "      <td>0.688128</td>\n",
       "    </tr>\n",
       "    <tr>\n",
       "      <th>Q027</th>\n",
       "      <td>object</td>\n",
       "      <td>7373</td>\n",
       "      <td>0.536999</td>\n",
       "    </tr>\n",
       "    <tr>\n",
       "      <th>NU_NOTA_REDACAO</th>\n",
       "      <td>float64</td>\n",
       "      <td>3597</td>\n",
       "      <td>0.261981</td>\n",
       "    </tr>\n",
       "    <tr>\n",
       "      <th>NU_NOTA_LC</th>\n",
       "      <td>float64</td>\n",
       "      <td>3597</td>\n",
       "      <td>0.261981</td>\n",
       "    </tr>\n",
       "    <tr>\n",
       "      <th>TP_STATUS_REDACAO</th>\n",
       "      <td>float64</td>\n",
       "      <td>3597</td>\n",
       "      <td>0.261981</td>\n",
       "    </tr>\n",
       "    <tr>\n",
       "      <th>NU_NOTA_COMP1</th>\n",
       "      <td>float64</td>\n",
       "      <td>3597</td>\n",
       "      <td>0.261981</td>\n",
       "    </tr>\n",
       "    <tr>\n",
       "      <th>NU_NOTA_COMP2</th>\n",
       "      <td>float64</td>\n",
       "      <td>3597</td>\n",
       "      <td>0.261981</td>\n",
       "    </tr>\n",
       "    <tr>\n",
       "      <th>NU_NOTA_COMP3</th>\n",
       "      <td>float64</td>\n",
       "      <td>3597</td>\n",
       "      <td>0.261981</td>\n",
       "    </tr>\n",
       "    <tr>\n",
       "      <th>NU_NOTA_COMP4</th>\n",
       "      <td>float64</td>\n",
       "      <td>3597</td>\n",
       "      <td>0.261981</td>\n",
       "    </tr>\n",
       "    <tr>\n",
       "      <th>NU_NOTA_COMP5</th>\n",
       "      <td>float64</td>\n",
       "      <td>3597</td>\n",
       "      <td>0.261981</td>\n",
       "    </tr>\n",
       "    <tr>\n",
       "      <th>NU_NOTA_CH</th>\n",
       "      <td>float64</td>\n",
       "      <td>3389</td>\n",
       "      <td>0.246832</td>\n",
       "    </tr>\n",
       "    <tr>\n",
       "      <th>NU_NOTA_CN</th>\n",
       "      <td>float64</td>\n",
       "      <td>3389</td>\n",
       "      <td>0.246832</td>\n",
       "    </tr>\n",
       "    <tr>\n",
       "      <th>TP_PRESENCA_MT</th>\n",
       "      <td>int64</td>\n",
       "      <td>0</td>\n",
       "      <td>0.000000</td>\n",
       "    </tr>\n",
       "    <tr>\n",
       "      <th>Q001</th>\n",
       "      <td>object</td>\n",
       "      <td>0</td>\n",
       "      <td>0.000000</td>\n",
       "    </tr>\n",
       "  </tbody>\n",
       "</table>\n",
       "</div>"
      ],
      "text/plain": [
       "                           type  Sum of NaN      NaN%\n",
       "TP_DEPENDENCIA_ADM_ESC  float64        9448  0.688128\n",
       "TP_ENSINO               float64        9448  0.688128\n",
       "Q027                     object        7373  0.536999\n",
       "NU_NOTA_REDACAO         float64        3597  0.261981\n",
       "NU_NOTA_LC              float64        3597  0.261981\n",
       "TP_STATUS_REDACAO       float64        3597  0.261981\n",
       "NU_NOTA_COMP1           float64        3597  0.261981\n",
       "NU_NOTA_COMP2           float64        3597  0.261981\n",
       "NU_NOTA_COMP3           float64        3597  0.261981\n",
       "NU_NOTA_COMP4           float64        3597  0.261981\n",
       "NU_NOTA_COMP5           float64        3597  0.261981\n",
       "NU_NOTA_CH              float64        3389  0.246832\n",
       "NU_NOTA_CN              float64        3389  0.246832\n",
       "TP_PRESENCA_MT            int64           0  0.000000\n",
       "Q001                     object           0  0.000000"
      ]
     },
     "execution_count": 7,
     "metadata": {},
     "output_type": "execute_result"
    }
   ],
   "source": [
    "status_train = pd.DataFrame({'columns': df_train_feat.columns,\n",
    "                             'type': df_train_feat.dtypes,\n",
    "                             'Sum of NaN': df_train_feat.isnull().sum(),\n",
    "                             'NaN%': df_train_feat.isnull().sum()/len(df_train_feat)})\n",
    "status_train.reindex(columns=['type','Sum of NaN','NaN%']).sort_values(by = 'Sum of NaN', ascending=False).head(15)"
   ]
  },
  {
   "cell_type": "markdown",
   "metadata": {},
   "source": [
    "## Entendendo as correlações de todas as variáveis em relação a variável 'IN_TREINEIRO'"
   ]
  },
  {
   "cell_type": "code",
   "execution_count": 8,
   "metadata": {},
   "outputs": [
    {
     "data": {
      "text/plain": [
       "IN_TREINEIRO       1.000000\n",
       "TP_ST_CONCLUSAO    0.536272\n",
       "TP_PRESENCA_CH     0.094805\n",
       "TP_PRESENCA_CN     0.094805\n",
       "TP_PRESENCA_MT     0.092589\n",
       "Name: IN_TREINEIRO, dtype: float64"
      ]
     },
     "execution_count": 8,
     "metadata": {},
     "output_type": "execute_result"
    }
   ],
   "source": [
    "df_train_feat.corr(method = 'spearman')['IN_TREINEIRO'].sort_values(ascending=False).head(5)"
   ]
  },
  {
   "cell_type": "code",
   "execution_count": 9,
   "metadata": {},
   "outputs": [
    {
     "data": {
      "text/plain": [
       "NU_IDADE           -0.535499\n",
       "TP_ANO_CONCLUIU    -0.344331\n",
       "TP_ESCOLA          -0.258023\n",
       "CO_UF_RESIDENCIA   -0.055914\n",
       "NU_NOTA_CH         -0.049434\n",
       "Name: IN_TREINEIRO, dtype: float64"
      ]
     },
     "execution_count": 9,
     "metadata": {},
     "output_type": "execute_result"
    }
   ],
   "source": [
    "df_train_feat.corr(method = 'spearman')['IN_TREINEIRO'].sort_values().head(5)"
   ]
  },
  {
   "cell_type": "markdown",
   "metadata": {},
   "source": [
    "As variáveis TP_ST_CONCLUSAO tem uma correlação positiva e as variáveis NU_IDADE, TP_ANO_CONCLUIU tem uma correlação negativa. "
   ]
  },
  {
   "cell_type": "markdown",
   "metadata": {},
   "source": [
    "Motivo pelo qual decidi utilizar o método spearman:\n",
    "    \n",
    "* [Spearman rank correlation: Spearman rank correlation is a non-parametric test that is used to measure the degree of association between two variables.  The Spearman rank correlation test does not carry any assumptions about the distribution of the data and is the appropriate correlation analysis when the variables are measured on a scale that is at least ordinal](https://www.statisticssolutions.com/correlation-pearson-kendall-spearman/)"
   ]
  },
  {
   "cell_type": "markdown",
   "metadata": {},
   "source": [
    "### Visualizando a correlação entre as variáveis selecionadas"
   ]
  },
  {
   "cell_type": "code",
   "execution_count": 10,
   "metadata": {},
   "outputs": [],
   "source": [
    "features_selected = df_train_feat[['IN_TREINEIRO', 'TP_ST_CONCLUSAO', 'NU_IDADE', 'TP_ANO_CONCLUIU']]"
   ]
  },
  {
   "cell_type": "code",
   "execution_count": 11,
   "metadata": {},
   "outputs": [
    {
     "data": {
      "text/plain": [
       "<matplotlib.axes._subplots.AxesSubplot at 0x1243f27f0>"
      ]
     },
     "execution_count": 11,
     "metadata": {},
     "output_type": "execute_result"
    },
    {
     "data": {
      "image/png": "[encoded data removed]",
      "text/plain": [
       "<Figure size 792x576 with 2 Axes>"
      ]
     },
     "metadata": {
      "needs_background": "light"
     },
     "output_type": "display_data"
    }
   ],
   "source": [
    "corr = features_selected.corr(method = 'spearman')\n",
    "ax = plt.subplots(figsize=(11, 8))\n",
    "sns.heatmap(corr,  annot=True, annot_kws={\"size\": 10})"
   ]
  },
  {
   "cell_type": "markdown",
   "metadata": {},
   "source": [
    "## Visualizando as variáveis em relação ao IN_TREINEIRO"
   ]
  },
  {
   "cell_type": "code",
   "execution_count": 12,
   "metadata": {},
   "outputs": [
    {
     "data": {
      "image/png": "[encoded data removed]",
      "text/plain": [
       "<Figure size 1080x360 with 1 Axes>"
      ]
     },
     "metadata": {
      "needs_background": "light"
     },
     "output_type": "display_data"
    }
   ],
   "source": [
    "plt.figure(figsize = (15,5))\n",
    "sns.set(style=\"darkgrid\")\n",
    "sns.countplot(x = 'TP_ST_CONCLUSAO', data= df_train_feat, hue= 'IN_TREINEIRO', palette=\"RdBu\")\n",
    "plt.title('Distribuição de pessoas por Status de Conclusão do Ensino Médio', size=15)\n",
    "plt.xlabel('Tipos de Conclusão', size = 15)\n",
    "plt.ylabel('Quantidade de pessoas', size = 15)\n",
    "plt.show()"
   ]
  },
  {
   "cell_type": "code",
   "execution_count": 13,
   "metadata": {
    "scrolled": true
   },
   "outputs": [],
   "source": [
    "#df_train_feat.groupby('TP_ST_CONCLUSAO')['IN_TREINEIRO'].sum()"
   ]
  },
  {
   "cell_type": "code",
   "execution_count": 14,
   "metadata": {},
   "outputs": [
    {
     "data": {
      "image/png": "[encoded data removed]",
      "text/plain": [
       "<Figure size 1080x360 with 1 Axes>"
      ]
     },
     "metadata": {},
     "output_type": "display_data"
    }
   ],
   "source": [
    "plt.figure(figsize = (15,5))\n",
    "sns.set(style=\"darkgrid\")\n",
    "sns.countplot(x = 'NU_IDADE', data= df_train_feat, hue= 'IN_TREINEIRO', palette=\"RdBu\")\n",
    "plt.title('Distribuição de pessoas por idade', size=15)\n",
    "plt.xlabel('Idade', size = 15)\n",
    "plt.ylabel('Quantidade de pessoas', size = 15)\n",
    "plt.show()"
   ]
  },
  {
   "cell_type": "code",
   "execution_count": 15,
   "metadata": {},
   "outputs": [
    {
     "data": {
      "image/png": "[encoded data removed]",
      "text/plain": [
       "<Figure size 1080x360 with 1 Axes>"
      ]
     },
     "metadata": {},
     "output_type": "display_data"
    }
   ],
   "source": [
    "plt.figure(figsize = (15,5))\n",
    "sns.set(style=\"darkgrid\")\n",
    "sns.countplot(x = 'TP_ANO_CONCLUIU', data= df_train_feat, hue= 'IN_TREINEIRO', palette=\"RdBu\")\n",
    "plt.title('Distribuição de pessoas por ano de conclusão do Ensino Médio', size=15)\n",
    "plt.xlabel('Idade', size = 15)\n",
    "plt.ylabel('Quantidade de pessoas', size = 15)\n",
    "plt.show()"
   ]
  },
  {
   "cell_type": "markdown",
   "metadata": {},
   "source": [
    "Reminder: 0 é a classificação 'Não informado.\n",
    "\n",
    "Desconsiderei essa feature por ela não impactar em nenhum dos indicadores"
   ]
  },
  {
   "cell_type": "markdown",
   "metadata": {},
   "source": [
    "### Visualizando a variável IN_TREINEIRO"
   ]
  },
  {
   "cell_type": "code",
   "execution_count": 16,
   "metadata": {},
   "outputs": [
    {
     "data": {
      "image/png": "[encoded data removed]",
      "text/plain": [
       "<Figure size 432x432 with 1 Axes>"
      ]
     },
     "metadata": {},
     "output_type": "display_data"
    }
   ],
   "source": [
    "plt.figure(figsize = (6,6))\n",
    "sns.set(style=\"darkgrid\")\n",
    "sns.countplot(x = 'IN_TREINEIRO', data= df_train_feat, palette=\"RdBu\")\n",
    "plt.title('Distribuição de Treineiros', size=15)\n",
    "plt.xlabel('Treineiro ou não', size = 15)\n",
    "plt.ylabel('Quantidade de pessoas', size = 15)\n",
    "plt.show()"
   ]
  },
  {
   "cell_type": "markdown",
   "metadata": {},
   "source": [
    "## Seleção de variáveis"
   ]
  },
  {
   "cell_type": "code",
   "execution_count": 17,
   "metadata": {},
   "outputs": [],
   "source": [
    "# sm = SMOTE()\n",
    "# x_train_bal, y_train_bal = sm.fit_resample(df_train_feat[['TP_ST_CONCLUSAO', 'NU_IDADE']],\n",
    "#                                           df_train_feat['IN_TREINEIRO'])"
   ]
  },
  {
   "cell_type": "markdown",
   "metadata": {},
   "source": [
    "Desconsiderei esse resample (que foi pensado devido ao desbalanceamento da feature IN_TREINEIRO) pois nos meus testes isso faz com que minha precisão diminuisse. \n",
    "Reminder: Entender o porque disso ter acontecido."
   ]
  },
  {
   "cell_type": "code",
   "execution_count": 18,
   "metadata": {},
   "outputs": [],
   "source": [
    "x_train_bal, y_train_bal = (df_train_feat[['TP_ST_CONCLUSAO', 'NU_IDADE']], df_train_feat['IN_TREINEIRO'])"
   ]
  },
  {
   "cell_type": "code",
   "execution_count": 20,
   "metadata": {},
   "outputs": [],
   "source": [
    "x_train, x_val, y_train, y_val = train_test_split(x_train_bal, y_train_bal, test_size = 0.2, random_state=42)"
   ]
  },
  {
   "cell_type": "code",
   "execution_count": 21,
   "metadata": {},
   "outputs": [],
   "source": [
    "x_test = df_test[['TP_ST_CONCLUSAO', 'NU_IDADE']]"
   ]
  },
  {
   "cell_type": "markdown",
   "metadata": {},
   "source": [
    "## Transformando as variáveis"
   ]
  },
  {
   "cell_type": "code",
   "execution_count": 22,
   "metadata": {},
   "outputs": [],
   "source": [
    "sc = StandardScaler()\n",
    "x_train = sc.fit_transform(x_train)\n",
    "x_val = sc.transform(x_val)\n",
    "x_test = sc.transform(x_test)"
   ]
  },
  {
   "cell_type": "markdown",
   "metadata": {},
   "source": [
    "## Modelo de Classificação"
   ]
  },
  {
   "cell_type": "code",
   "execution_count": 23,
   "metadata": {},
   "outputs": [
    {
     "data": {
      "text/plain": [
       "RandomForestClassifier()"
      ]
     },
     "execution_count": 23,
     "metadata": {},
     "output_type": "execute_result"
    }
   ],
   "source": [
    "classifier = RandomForestClassifier()\n",
    "classifier.fit(x_train, y_train)"
   ]
  },
  {
   "cell_type": "code",
   "execution_count": 24,
   "metadata": {},
   "outputs": [],
   "source": [
    "y_pred_val = classifier.predict(x_val)"
   ]
  },
  {
   "cell_type": "code",
   "execution_count": 25,
   "metadata": {},
   "outputs": [
    {
     "name": "stdout",
     "output_type": "stream",
     "text": [
      "Accuracy: 0.9970866715222141\n",
      "Precision: 1.0\n"
     ]
    },
    {
     "data": {
      "image/png": "[encoded data removed]",
      "text/plain": [
       "<Figure size 360x360 with 2 Axes>"
      ]
     },
     "metadata": {},
     "output_type": "display_data"
    }
   ],
   "source": [
    "plt.figure(figsize = (5,5))\n",
    "sns.heatmap(confusion_matrix(y_val,y_pred_val), annot=True, cmap=\"Blues\", fmt= 'g')\n",
    "print('Accuracy:', metrics.accuracy_score(y_val,y_pred_val))\n",
    "print('Precision:', metrics.precision_score(y_val,y_pred_val))"
   ]
  },
  {
   "cell_type": "code",
   "execution_count": 26,
   "metadata": {},
   "outputs": [],
   "source": [
    "y_pred_test = classifier.predict(x_test)"
   ]
  },
  {
   "cell_type": "code",
   "execution_count": 27,
   "metadata": {},
   "outputs": [],
   "source": [
    "df_answer = pd.DataFrame({'NU_INSCRICAO': df_test.NU_INSCRICAO,\n",
    "                          'IN_TREINEIRO': y_pred_test})"
   ]
  },
  {
   "cell_type": "markdown",
   "metadata": {},
   "source": [
    "## Resultado"
   ]
  },
  {
   "cell_type": "code",
   "execution_count": 28,
   "metadata": {},
   "outputs": [
    {
     "data": {
      "text/html": [
       "<div>\n",
       "<style scoped>\n",
       "    .dataframe tbody tr th:only-of-type {\n",
       "        vertical-align: middle;\n",
       "    }\n",
       "\n",
       "    .dataframe tbody tr th {\n",
       "        vertical-align: top;\n",
       "    }\n",
       "\n",
       "    .dataframe thead th {\n",
       "        text-align: right;\n",
       "    }\n",
       "</style>\n",
       "<table border=\"1\" class=\"dataframe\">\n",
       "  <thead>\n",
       "    <tr style=\"text-align: right;\">\n",
       "      <th></th>\n",
       "      <th>NU_INSCRICAO</th>\n",
       "      <th>IN_TREINEIRO</th>\n",
       "    </tr>\n",
       "  </thead>\n",
       "  <tbody>\n",
       "    <tr>\n",
       "      <th>0</th>\n",
       "      <td>ba0cc30ba34e7a46764c09dfc38ed83d15828897</td>\n",
       "      <td>0</td>\n",
       "    </tr>\n",
       "    <tr>\n",
       "      <th>1</th>\n",
       "      <td>177f281c68fa032aedbd842a745da68490926cd2</td>\n",
       "      <td>0</td>\n",
       "    </tr>\n",
       "    <tr>\n",
       "      <th>2</th>\n",
       "      <td>6cf0d8b97597d7625cdedc7bdb6c0f052286c334</td>\n",
       "      <td>1</td>\n",
       "    </tr>\n",
       "    <tr>\n",
       "      <th>3</th>\n",
       "      <td>5c356d810fa57671402502cd0933e5601a2ebf1e</td>\n",
       "      <td>0</td>\n",
       "    </tr>\n",
       "    <tr>\n",
       "      <th>4</th>\n",
       "      <td>df47c07bd881c2db3f38c6048bf77c132ad0ceb3</td>\n",
       "      <td>0</td>\n",
       "    </tr>\n",
       "    <tr>\n",
       "      <th>5</th>\n",
       "      <td>3f28749fb79fb059caf5aed79625a5addfd7a91a</td>\n",
       "      <td>0</td>\n",
       "    </tr>\n",
       "    <tr>\n",
       "      <th>6</th>\n",
       "      <td>bb2a0edddf3c59181a1496390aaaee7f32624d9d</td>\n",
       "      <td>1</td>\n",
       "    </tr>\n",
       "    <tr>\n",
       "      <th>7</th>\n",
       "      <td>cc7cab347fe5455aae983f3701ca40f84dc01949</td>\n",
       "      <td>0</td>\n",
       "    </tr>\n",
       "    <tr>\n",
       "      <th>8</th>\n",
       "      <td>95e9338f1da02f7bfa0e3194130afdccc0fb5457</td>\n",
       "      <td>1</td>\n",
       "    </tr>\n",
       "    <tr>\n",
       "      <th>9</th>\n",
       "      <td>155f84f2ee5b34e658f2adcc70f2ec83e37040cb</td>\n",
       "      <td>0</td>\n",
       "    </tr>\n",
       "    <tr>\n",
       "      <th>10</th>\n",
       "      <td>40f4566da0536c486a34ec6ba85257eaebf3255c</td>\n",
       "      <td>0</td>\n",
       "    </tr>\n",
       "    <tr>\n",
       "      <th>11</th>\n",
       "      <td>366749b2ea3e6023fdbfdbf7c6596dfab31885d9</td>\n",
       "      <td>0</td>\n",
       "    </tr>\n",
       "    <tr>\n",
       "      <th>12</th>\n",
       "      <td>52502d4aca10ad7261a4fe9983ddca1fd8b45c31</td>\n",
       "      <td>0</td>\n",
       "    </tr>\n",
       "    <tr>\n",
       "      <th>13</th>\n",
       "      <td>52b20639bb0294b01c9be89f80cf682ac4d9f133</td>\n",
       "      <td>0</td>\n",
       "    </tr>\n",
       "    <tr>\n",
       "      <th>14</th>\n",
       "      <td>1718c649736b61d49a714f2a1c0a3e37a4d7c3b4</td>\n",
       "      <td>0</td>\n",
       "    </tr>\n",
       "    <tr>\n",
       "      <th>15</th>\n",
       "      <td>2410aa55f6eedc95bf049e118f7686714b7efca7</td>\n",
       "      <td>0</td>\n",
       "    </tr>\n",
       "    <tr>\n",
       "      <th>16</th>\n",
       "      <td>a82ffea78453d320efe7800590c717a32a9b9c7a</td>\n",
       "      <td>0</td>\n",
       "    </tr>\n",
       "    <tr>\n",
       "      <th>17</th>\n",
       "      <td>4a5b86a6ea23f1551456cbf49ed54885992de4ce</td>\n",
       "      <td>1</td>\n",
       "    </tr>\n",
       "    <tr>\n",
       "      <th>18</th>\n",
       "      <td>d3a6a5746484c9046c1fc1f58f5a0a4da252c391</td>\n",
       "      <td>0</td>\n",
       "    </tr>\n",
       "    <tr>\n",
       "      <th>19</th>\n",
       "      <td>d18ae8829870011d4a3b1651e0bfa1640b8e9eb2</td>\n",
       "      <td>0</td>\n",
       "    </tr>\n",
       "    <tr>\n",
       "      <th>20</th>\n",
       "      <td>b79c3f5daf56ab613a6ee75c8ad7d190cca42a78</td>\n",
       "      <td>0</td>\n",
       "    </tr>\n",
       "    <tr>\n",
       "      <th>21</th>\n",
       "      <td>f2a7137f1f083351e14c6625a25cdd6809abb9eb</td>\n",
       "      <td>0</td>\n",
       "    </tr>\n",
       "    <tr>\n",
       "      <th>22</th>\n",
       "      <td>bc9bf0eedfd80d0ce69a6df520b634790f3ce448</td>\n",
       "      <td>0</td>\n",
       "    </tr>\n",
       "    <tr>\n",
       "      <th>23</th>\n",
       "      <td>c567a1f6e1d7a22b58ad729bdc2a4b2836da2039</td>\n",
       "      <td>0</td>\n",
       "    </tr>\n",
       "    <tr>\n",
       "      <th>24</th>\n",
       "      <td>a309ebeff49f88dbab213711495fbb13db2328ef</td>\n",
       "      <td>0</td>\n",
       "    </tr>\n",
       "    <tr>\n",
       "      <th>25</th>\n",
       "      <td>18d4f88a769aa62d7732a5fa610d935893da52ae</td>\n",
       "      <td>0</td>\n",
       "    </tr>\n",
       "    <tr>\n",
       "      <th>26</th>\n",
       "      <td>c4a95595f52e40030703fda3dbfd7a7932395d3b</td>\n",
       "      <td>0</td>\n",
       "    </tr>\n",
       "    <tr>\n",
       "      <th>27</th>\n",
       "      <td>d3464236d53369514fbf151775b514a596a67400</td>\n",
       "      <td>0</td>\n",
       "    </tr>\n",
       "    <tr>\n",
       "      <th>28</th>\n",
       "      <td>eaafa5442e02ae0eb1269507572450c52aa373a6</td>\n",
       "      <td>0</td>\n",
       "    </tr>\n",
       "    <tr>\n",
       "      <th>29</th>\n",
       "      <td>e9e4c0a15dbd4e92cace2e00b95c16ad08632e17</td>\n",
       "      <td>0</td>\n",
       "    </tr>\n",
       "    <tr>\n",
       "      <th>...</th>\n",
       "      <td>...</td>\n",
       "      <td>...</td>\n",
       "    </tr>\n",
       "    <tr>\n",
       "      <th>4540</th>\n",
       "      <td>d4dfcd1c05a30cdbea87c1e98f8663e456c86d0e</td>\n",
       "      <td>0</td>\n",
       "    </tr>\n",
       "    <tr>\n",
       "      <th>4541</th>\n",
       "      <td>77011c6ec5792e28086ba34d0e53faf28e7a0809</td>\n",
       "      <td>0</td>\n",
       "    </tr>\n",
       "    <tr>\n",
       "      <th>4542</th>\n",
       "      <td>89346606f1baa1450cdc099107eeef05342e5852</td>\n",
       "      <td>0</td>\n",
       "    </tr>\n",
       "    <tr>\n",
       "      <th>4543</th>\n",
       "      <td>5f512fb3556a7a567bdca975191c40ca08d492b8</td>\n",
       "      <td>0</td>\n",
       "    </tr>\n",
       "    <tr>\n",
       "      <th>4544</th>\n",
       "      <td>f1f4cbbebcf27ed28d720198a5018fb362875af1</td>\n",
       "      <td>0</td>\n",
       "    </tr>\n",
       "    <tr>\n",
       "      <th>4545</th>\n",
       "      <td>f816860ce5c2b57bd762b58837fe3ba39f59fa2b</td>\n",
       "      <td>0</td>\n",
       "    </tr>\n",
       "    <tr>\n",
       "      <th>4546</th>\n",
       "      <td>1465217e49913041851bc4ba75c17736cb9a6368</td>\n",
       "      <td>0</td>\n",
       "    </tr>\n",
       "    <tr>\n",
       "      <th>4547</th>\n",
       "      <td>29db02b5c661d7ba17547fcb84bb3df3f2345607</td>\n",
       "      <td>0</td>\n",
       "    </tr>\n",
       "    <tr>\n",
       "      <th>4548</th>\n",
       "      <td>3a166e9f4f34e0766e0d8bc74a6caee3a573bc5f</td>\n",
       "      <td>0</td>\n",
       "    </tr>\n",
       "    <tr>\n",
       "      <th>4549</th>\n",
       "      <td>5c755a25a3441f56891e98d571e5237392856fe1</td>\n",
       "      <td>0</td>\n",
       "    </tr>\n",
       "    <tr>\n",
       "      <th>4550</th>\n",
       "      <td>27b674aea91a8a3c6652212e3cc9dd41370095b9</td>\n",
       "      <td>0</td>\n",
       "    </tr>\n",
       "    <tr>\n",
       "      <th>4551</th>\n",
       "      <td>e29324716ee9ce7bea9383480aa98f59c7a6d885</td>\n",
       "      <td>0</td>\n",
       "    </tr>\n",
       "    <tr>\n",
       "      <th>4552</th>\n",
       "      <td>9eaf628037ff65afa2a424d2329a38e80b326f8f</td>\n",
       "      <td>0</td>\n",
       "    </tr>\n",
       "    <tr>\n",
       "      <th>4553</th>\n",
       "      <td>46d949289f8eddad46c9799671a4c1a63d6b2bf1</td>\n",
       "      <td>0</td>\n",
       "    </tr>\n",
       "    <tr>\n",
       "      <th>4554</th>\n",
       "      <td>bfcb0cd5751b3a8d7c7447bec542235242c36caf</td>\n",
       "      <td>1</td>\n",
       "    </tr>\n",
       "    <tr>\n",
       "      <th>4555</th>\n",
       "      <td>b63a50e01747dfd607f88af029ec89324da61966</td>\n",
       "      <td>1</td>\n",
       "    </tr>\n",
       "    <tr>\n",
       "      <th>4556</th>\n",
       "      <td>cdf6d93623ca5116a0d483a8682b5f35eb99f6f3</td>\n",
       "      <td>0</td>\n",
       "    </tr>\n",
       "    <tr>\n",
       "      <th>4557</th>\n",
       "      <td>d4e35bc6c21e119c78c411bdd4ff3bdab7fa7b1b</td>\n",
       "      <td>0</td>\n",
       "    </tr>\n",
       "    <tr>\n",
       "      <th>4558</th>\n",
       "      <td>80689f334285ddc088d8ee19c28bc289de2126e7</td>\n",
       "      <td>0</td>\n",
       "    </tr>\n",
       "    <tr>\n",
       "      <th>4559</th>\n",
       "      <td>1c4d5d329dd792c39e52de9547718d7bdb307ded</td>\n",
       "      <td>0</td>\n",
       "    </tr>\n",
       "    <tr>\n",
       "      <th>4560</th>\n",
       "      <td>e4d38f80b6c869e4748cbef9373a22cc5c775728</td>\n",
       "      <td>0</td>\n",
       "    </tr>\n",
       "    <tr>\n",
       "      <th>4561</th>\n",
       "      <td>ea385ce7d39aa1803bbbe7eb7dd9ff574dbbd7b9</td>\n",
       "      <td>0</td>\n",
       "    </tr>\n",
       "    <tr>\n",
       "      <th>4562</th>\n",
       "      <td>7e3bcf2966378b00af9ca687bcdb8c5c85e9cfeb</td>\n",
       "      <td>0</td>\n",
       "    </tr>\n",
       "    <tr>\n",
       "      <th>4563</th>\n",
       "      <td>3b71684faf93eac1ae36380f35c54253e4b13509</td>\n",
       "      <td>0</td>\n",
       "    </tr>\n",
       "    <tr>\n",
       "      <th>4564</th>\n",
       "      <td>96f0f13cd1e74986eddd4a97bf1a3006a8ce2f74</td>\n",
       "      <td>0</td>\n",
       "    </tr>\n",
       "    <tr>\n",
       "      <th>4565</th>\n",
       "      <td>361b7fcd8867119550fe2af5aa729ffad89a7cf5</td>\n",
       "      <td>0</td>\n",
       "    </tr>\n",
       "    <tr>\n",
       "      <th>4566</th>\n",
       "      <td>d8a0e4c9e29494cc9bba2422bd79333931475ee1</td>\n",
       "      <td>0</td>\n",
       "    </tr>\n",
       "    <tr>\n",
       "      <th>4567</th>\n",
       "      <td>3f1c3388244df8d6521e983a809292d9f3bca643</td>\n",
       "      <td>0</td>\n",
       "    </tr>\n",
       "    <tr>\n",
       "      <th>4568</th>\n",
       "      <td>1778e9c4cef591beb6b986d191d15ed05de816b0</td>\n",
       "      <td>0</td>\n",
       "    </tr>\n",
       "    <tr>\n",
       "      <th>4569</th>\n",
       "      <td>096809759695097e384e766d2d9e23a34fc81610</td>\n",
       "      <td>0</td>\n",
       "    </tr>\n",
       "  </tbody>\n",
       "</table>\n",
       "<p>4570 rows × 2 columns</p>\n",
       "</div>"
      ],
      "text/plain": [
       "                                  NU_INSCRICAO  IN_TREINEIRO\n",
       "0     ba0cc30ba34e7a46764c09dfc38ed83d15828897             0\n",
       "1     177f281c68fa032aedbd842a745da68490926cd2             0\n",
       "2     6cf0d8b97597d7625cdedc7bdb6c0f052286c334             1\n",
       "3     5c356d810fa57671402502cd0933e5601a2ebf1e             0\n",
       "4     df47c07bd881c2db3f38c6048bf77c132ad0ceb3             0\n",
       "5     3f28749fb79fb059caf5aed79625a5addfd7a91a             0\n",
       "6     bb2a0edddf3c59181a1496390aaaee7f32624d9d             1\n",
       "7     cc7cab347fe5455aae983f3701ca40f84dc01949             0\n",
       "8     95e9338f1da02f7bfa0e3194130afdccc0fb5457             1\n",
       "9     155f84f2ee5b34e658f2adcc70f2ec83e37040cb             0\n",
       "10    40f4566da0536c486a34ec6ba85257eaebf3255c             0\n",
       "11    366749b2ea3e6023fdbfdbf7c6596dfab31885d9             0\n",
       "12    52502d4aca10ad7261a4fe9983ddca1fd8b45c31             0\n",
       "13    52b20639bb0294b01c9be89f80cf682ac4d9f133             0\n",
       "14    1718c649736b61d49a714f2a1c0a3e37a4d7c3b4             0\n",
       "15    2410aa55f6eedc95bf049e118f7686714b7efca7             0\n",
       "16    a82ffea78453d320efe7800590c717a32a9b9c7a             0\n",
       "17    4a5b86a6ea23f1551456cbf49ed54885992de4ce             1\n",
       "18    d3a6a5746484c9046c1fc1f58f5a0a4da252c391             0\n",
       "19    d18ae8829870011d4a3b1651e0bfa1640b8e9eb2             0\n",
       "20    b79c3f5daf56ab613a6ee75c8ad7d190cca42a78             0\n",
       "21    f2a7137f1f083351e14c6625a25cdd6809abb9eb             0\n",
       "22    bc9bf0eedfd80d0ce69a6df520b634790f3ce448             0\n",
       "23    c567a1f6e1d7a22b58ad729bdc2a4b2836da2039             0\n",
       "24    a309ebeff49f88dbab213711495fbb13db2328ef             0\n",
       "25    18d4f88a769aa62d7732a5fa610d935893da52ae             0\n",
       "26    c4a95595f52e40030703fda3dbfd7a7932395d3b             0\n",
       "27    d3464236d53369514fbf151775b514a596a67400             0\n",
       "28    eaafa5442e02ae0eb1269507572450c52aa373a6             0\n",
       "29    e9e4c0a15dbd4e92cace2e00b95c16ad08632e17             0\n",
       "...                                        ...           ...\n",
       "4540  d4dfcd1c05a30cdbea87c1e98f8663e456c86d0e             0\n",
       "4541  77011c6ec5792e28086ba34d0e53faf28e7a0809             0\n",
       "4542  89346606f1baa1450cdc099107eeef05342e5852             0\n",
       "4543  5f512fb3556a7a567bdca975191c40ca08d492b8             0\n",
       "4544  f1f4cbbebcf27ed28d720198a5018fb362875af1             0\n",
       "4545  f816860ce5c2b57bd762b58837fe3ba39f59fa2b             0\n",
       "4546  1465217e49913041851bc4ba75c17736cb9a6368             0\n",
       "4547  29db02b5c661d7ba17547fcb84bb3df3f2345607             0\n",
       "4548  3a166e9f4f34e0766e0d8bc74a6caee3a573bc5f             0\n",
       "4549  5c755a25a3441f56891e98d571e5237392856fe1             0\n",
       "4550  27b674aea91a8a3c6652212e3cc9dd41370095b9             0\n",
       "4551  e29324716ee9ce7bea9383480aa98f59c7a6d885             0\n",
       "4552  9eaf628037ff65afa2a424d2329a38e80b326f8f             0\n",
       "4553  46d949289f8eddad46c9799671a4c1a63d6b2bf1             0\n",
       "4554  bfcb0cd5751b3a8d7c7447bec542235242c36caf             1\n",
       "4555  b63a50e01747dfd607f88af029ec89324da61966             1\n",
       "4556  cdf6d93623ca5116a0d483a8682b5f35eb99f6f3             0\n",
       "4557  d4e35bc6c21e119c78c411bdd4ff3bdab7fa7b1b             0\n",
       "4558  80689f334285ddc088d8ee19c28bc289de2126e7             0\n",
       "4559  1c4d5d329dd792c39e52de9547718d7bdb307ded             0\n",
       "4560  e4d38f80b6c869e4748cbef9373a22cc5c775728             0\n",
       "4561  ea385ce7d39aa1803bbbe7eb7dd9ff574dbbd7b9             0\n",
       "4562  7e3bcf2966378b00af9ca687bcdb8c5c85e9cfeb             0\n",
       "4563  3b71684faf93eac1ae36380f35c54253e4b13509             0\n",
       "4564  96f0f13cd1e74986eddd4a97bf1a3006a8ce2f74             0\n",
       "4565  361b7fcd8867119550fe2af5aa729ffad89a7cf5             0\n",
       "4566  d8a0e4c9e29494cc9bba2422bd79333931475ee1             0\n",
       "4567  3f1c3388244df8d6521e983a809292d9f3bca643             0\n",
       "4568  1778e9c4cef591beb6b986d191d15ed05de816b0             0\n",
       "4569  096809759695097e384e766d2d9e23a34fc81610             0\n",
       "\n",
       "[4570 rows x 2 columns]"
      ]
     },
     "execution_count": 28,
     "metadata": {},
     "output_type": "execute_result"
    }
   ],
   "source": [
    "df_answer"
   ]
  },
  {
   "cell_type": "code",
   "execution_count": 29,
   "metadata": {},
   "outputs": [],
   "source": [
    "df_answer.to_csv('answer.csv', index=False, header=True)"
   ]
  },
  {
   "cell_type": "markdown",
   "metadata": {},
   "source": [
    "Resultado: 99.73%"
   ]
  }
 ],
 "metadata": {
  "kernelspec": {
   "display_name": "Python 3",
   "language": "python",
   "name": "python3"
  },
  "language_info": {
   "codemirror_mode": {
    "name": "ipython",
    "version": 3
   },
   "file_extension": ".py",
   "mimetype": "text/x-python",
   "name": "python",
   "nbconvert_exporter": "python",
   "pygments_lexer": "ipython3",
   "version": "3.7.3"
  }
 },
 "nbformat": 4,
 "nbformat_minor": 2
}
